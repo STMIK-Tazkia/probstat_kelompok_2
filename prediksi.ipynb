{
 "cells": [
  {
   "cell_type": "markdown",
   "metadata": {},
   "source": [
    "# Implementasi Algoritma Regresi Linear dan Stochastic Gradient Descent Pada Prediksi Penyakit Paru Paru"
   ]
  },
  {
   "cell_type": "markdown",
   "metadata": {},
   "source": [
    "---"
   ]
  },
  {
   "cell_type": "markdown",
   "metadata": {},
   "source": [
    "### **1. Persiapan Lingkungan dan Data**"
   ]
  },
  {
   "cell_type": "code",
   "execution_count": null,
   "metadata": {},
   "outputs": [
    {
     "name": "stdout",
     "output_type": "stream",
     "text": [
      "File 'predic_tabel.csv' tidak ditemukan. Menggunakan data contoh.\n",
      "✅ Persiapan data selesai!\n",
      "Bentuk data latih (X_train): (8, 9)\n",
      "Bentuk data uji (X_test): (2, 9)\n"
     ]
    }
   ],
   "source": [
    "import pandas as pd\n",
    "from sklearn.model_selection import train_test_split\n",
    "from sklearn.preprocessing import StandardScaler\n",
    "import numpy as np\n",
    "import io\n",
    "\n",
    "# --- 1. Persiapan Data ---\n",
    "\n",
    "# Mencoba membaca file, jika gagal, gunakan data contoh\n",
    "try:\n",
    "    data = pd.read_csv('predic_tabel.csv')\n",
    "except FileNotFoundError:\n",
    "    print(\"File 'predic_tabel.csv' tidak ditemukan. Menggunakan data contoh.\")\n",
    "    file_content = \"\"\"No,Usia,Jenis_Kelamin,Merokok,Bekerja,Rumah_Tangga,Aktivitas_Begadang,Aktivitas_Olahraga,Asuransi,Penyakit_Bawaan,Hasil\n",
    "1,Tua,Pria,Pasif,Tidak,Ya,Ya,Sering,Ada,Tidak,Ya\n",
    "2,Tua,Pria,Aktif,Tidak,Ya,Ya,Jarang,Ada,Ada,Tidak\n",
    "3,Muda,Pria,Aktif,Tidak,Ya,Ya,Jarang,Ada,Tidak,Tidak\n",
    "4,Tua,Pria,Aktif,Ya,Tidak,Tidak,Jarang,Ada,Ada,Tidak\n",
    "5,Muda,Wanita,Pasif,Ya,Tidak,Tidak,Sering,Tidak,Ada,Ya\n",
    "6,Muda,Wanita,Pasif,Ya,Tidak,Tidak,Sering,Tidak,Ada,Tidak\n",
    "7,Tua,Wanita,Pasif,Tidak,Ya,Tidak,Sering,Tidak,Tidak,Ya\n",
    "8,Muda,Pria,Aktif,Tidak,Ya,Ya,Sering,Tidak,Tidak,Tidak\n",
    "9,Tua,Wanita,Aktif,Ya,Ya,Ya,Jarang,Ada,Ada,Ya\n",
    "10,Muda,Wanita,Pasif,Ya,Tidak,Ya,Jarang,Ada,Ada,Ya\n",
    "\"\"\"\n",
    "    data = pd.read_csv(io.StringIO(file_content))\n",
    "\n",
    "# Menghapus kolom 'No' dan melakukan one-hot encoding\n",
    "data = data.drop('No', axis=1)\n",
    "data_encoded = pd.get_dummies(data, drop_first=True)\n",
    "data_encoded.rename(columns={'Hasil_Ya': 'Hasil'}, inplace=True)\n",
    "\n",
    "# Memisahkan fitur (X) dan target (y)\n",
    "X = data_encoded.drop('Hasil', axis=1)\n",
    "y = data_encoded['Hasil']\n",
    "\n",
    "# Membagi data menjadi data latih dan data uji\n",
    "X_train, X_test, y_train, y_test = train_test_split(X, y, test_size=0.2, random_state=42)\n",
    "\n",
    "# Normalisasi fitur\n",
    "scaler = StandardScaler()\n",
    "X_train_scaled = scaler.fit_transform(X_train)\n",
    "X_test_scaled = scaler.transform(X_test)\n",
    "\n",
    "print(\"\\u2705 Persiapan data selesai!\")\n",
    "print(f\"Bentuk data latih (X_train): {X_train_scaled.shape}\")\n",
    "print(f\"Bentuk data uji (X_test): {X_test_scaled.shape}\")"
   ]
  },
  {
   "cell_type": "markdown",
   "metadata": {},
   "source": [
    "### **2. Implementasi Model dan Optimizer**"
   ]
  },
  {
   "cell_type": "markdown",
   "id": "aa09922d",
   "metadata": {},
   "source": [
    "---"
   ]
  },
  {
   "cell_type": "code",
   "execution_count": null,
   "metadata": {},
   "outputs": [],
   "source": [
    "class LinearRegression:\n",
    "    \"\"\"\n",
    "    Mendefinisikan arsitektur model Regresi Linear.\n",
    "    Tugasnya hanya menghitung prediksi dan gradien.\n",
    "    \"\"\"\n",
    "    def __init__(self, n_features):\n",
    "        # Inisialisasi bobot dan bias dengan nol\n",
    "        self.weights = np.zeros(n_features)\n",
    "        self.bias = 0\n",
    "\n",
    "    def predict(self, X):\n",
    "        # Menghitung prediksi: Y = (W * X) + b\n",
    "        return np.dot(X, self.weights) + self.bias\n",
    "\n",
    "    def get_gradients(self, X, y_true):\n",
    "        # Menghitung seberapa besar kesalahan (gradien) untuk pembaruan\n",
    "        y_predicted = self.predict(X)\n",
    "        error = y_predicted - y_true\n",
    "        \n",
    "        # Turunan dari Mean Squared Error\n",
    "        dw = (2 / X.shape[0]) * np.dot(X.T, error)\n",
    "        db = (2 / X.shape[0]) * np.sum(error)\n",
    "        \n",
    "        return dw, db\n",
    "\n",
    "class SGD_Optimizer:\n",
    "    \"\"\"\n",
    "    Mendefinisikan algoritma optimisasi Stochastic Gradient Descent.\n",
    "    Tugasnya adalah melatih sebuah model dengan memperbarui parameternya.\n",
    "    \"\"\"\n",
    "    def __init__(self, model, learning_rate=0.01, n_iterations=1000):\n",
    "        self.model = model\n",
    "        self.learning_rate = learning_rate\n",
    "        self.n_iterations = n_iterations\n",
    "\n",
    "    def fit(self, X, y):\n",
    "        n_samples = X.shape[0]\n",
    "        y = y.values # Ubah ke numpy array\n",
    "\n",
    "        # Loop training utama\n",
    "        for _ in range(self.n_iterations):\n",
    "            # Ambil satu sampel data secara acak untuk setiap iterasi\n",
    "            random_index = np.random.randint(n_samples)\n",
    "            xi = X[random_index:random_index+1]\n",
    "            yi = y[random_index:random_index+1]\n",
    "\n",
    "            # 1. Minta model untuk menghitung gradiennya\n",
    "            dw, db = self.model.get_gradients(xi, yi)\n",
    "\n",
    "            # 2. Perbarui bobot dan bias milik model\n",
    "            self.model.weights -= self.learning_rate * dw\n",
    "            self.model.bias -= self.learning_rate * db"
   ]
  },
  {
   "cell_type": "markdown",
   "metadata": {},
   "source": [
    "---"
   ]
  },
  {
   "cell_type": "markdown",
   "metadata": {},
   "source": [
    "### **3. Melatih dan Mengevaluasi Model**"
   ]
  },
  {
   "cell_type": "code",
   "execution_count": null,
   "metadata": {},
   "outputs": [
    {
     "name": "stdout",
     "output_type": "stream",
     "text": [
      "🚀 Memulai proses pelatihan...\n",
      "✅ Pelatihan selesai!\n",
      "\n",
      "--- Hasil Evaluasi Model ---\n",
      "Prediksi mentah (kontinu) dari model: [0.18663853 0.20140552]\n",
      "Prediksi setelah dikonversi ke kelas (0/1): [0, 0]\n",
      "Nilai Sebenarnya: [1 0]\n",
      "\n",
      "--- Metrik Performa ---\n",
      "Mean Squared Error (MSE): 0.3444\n",
      "Akurasi (setelah pembulatan): 0.50\n"
     ]
    }
   ],
   "source": [
    "# Tentukan jumlah fitur dari data latih\n",
    "n_features = X_train_scaled.shape[1]\n",
    "\n",
    "# 1. Buat instance dari model LinearRegression\n",
    "linear_model = LinearRegression(n_features=n_features)\n",
    "\n",
    "# 2. Buat instance dari SGD_Optimizer dan berikan model di atas untuk dilatih\n",
    "optimizer = SGD_Optimizer(model=linear_model, learning_rate=0.01, n_iterations=1000)\n",
    "\n",
    "# 3. Jalankan proses training\n",
    "print(\"\\U0001F680 Memulai proses pelatihan...\")\n",
    "optimizer.fit(X_train_scaled, y_train)\n",
    "print(\"\\u2705 Pelatihan selesai!\")\n",
    "\n",
    "# 4. Buat prediksi menggunakan model yang sudah dilatih\n",
    "predictions_continuous = linear_model.predict(X_test_scaled)\n",
    "predictions_class = [1 if val > 0.5 else 0 for val in predictions_continuous]\n",
    "\n",
    "\n",
    "# --- 5. Evaluasi Hasil ---\n",
    "\n",
    "def mean_squared_error(y_true, y_pred):\n",
    "    return np.mean((y_true.values - y_pred)**2)\n",
    "\n",
    "def accuracy(y_true, y_pred):\n",
    "    return np.sum(y_true.values == y_pred) / len(y_true)\n",
    "\n",
    "print(\"\\n--- Hasil Evaluasi Model ---\")\n",
    "print(f\"Prediksi mentah (kontinu) dari model: {predictions_continuous}\")\n",
    "print(f\"Prediksi setelah dikonversi ke kelas (0/1): {predictions_class}\")\n",
    "print(f\"Nilai Sebenarnya: {y_test.values}\")\n",
    "print(\"\\n--- Metrik Performa ---\")\n",
    "print(f\"Mean Squared Error (MSE): {mean_squared_error(y_test, predictions_continuous):.4f}\")\n",
    "print(f\"Akurasi (setelah pembulatan): {accuracy(y_test, predictions_class):.2f}\")"
   ]
  }
 ],
 "metadata": {
  "kernelspec": {
   "display_name": ".venv",
   "language": "python",
   "name": "python3"
  },
  "language_info": {
   "codemirror_mode": {
    "name": "ipython",
    "version": 3
   },
   "file_extension": ".py",
   "mimetype": "text/x-python",
   "name": "python",
   "nbconvert_exporter": "python",
   "pygments_lexer": "ipython3",
   "version": "3.13.7"
  }
 },
 "nbformat": 4,
 "nbformat_minor": 5
}
